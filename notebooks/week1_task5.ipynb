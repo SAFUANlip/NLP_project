{
  "nbformat": 4,
  "nbformat_minor": 0,
  "metadata": {
    "colab": {
      "provenance": [],
      "gpuType": "T4",
      "authorship_tag": "ABX9TyMVC5ozCjkmT01Tfq8JckIK"
    },
    "kernelspec": {
      "name": "python3",
      "display_name": "Python 3"
    },
    "language_info": {
      "name": "python"
    },
    "accelerator": "GPU"
  },
  "cells": [
    {
      "cell_type": "markdown",
      "source": [
        "##Task 5\n",
        "Find LLM (LLaMA 2 / 3, Mistral, Claude) for RAG and try to run on our data (we need at least on example how it works on practice and some baseline for future evaluation with other models)"
      ],
      "metadata": {
        "id": "CvkgRelyHlFD"
      }
    },
    {
      "cell_type": "code",
      "source": [
        "from google.colab import drive\n",
        "drive.mount('/content/drive')"
      ],
      "metadata": {
        "colab": {
          "base_uri": "https://localhost:8080/"
        },
        "id": "wuRA6SwdIvXy",
        "executionInfo": {
          "status": "ok",
          "timestamp": 1745511290705,
          "user_tz": -120,
          "elapsed": 1136,
          "user": {
            "displayName": "\u85e4\u672c\u7fd4\u5927",
            "userId": "17448755615328061370"
          }
        },
        "outputId": "f8cb35e6-2f7a-47e8-bced-99201c65cde3"
      },
      "execution_count": null,
      "outputs": [
        {
          "output_type": "stream",
          "name": "stdout",
          "text": [
            "Drive already mounted at /content/drive; to attempt to forcibly remount, call drive.mount(\"/content/drive\", force_remount=True).\n"
          ]
        }
      ]
    },
    {
      "cell_type": "code",
      "source": [
        "import os\n",
        "\n",
        "path = 'nlp/Project'\n",
        "\n",
        "os.chdir(f'/content/drive/MyDrive/{path}')\n",
        "os.getcwd()"
      ],
      "metadata": {
        "colab": {
          "base_uri": "https://localhost:8080/",
          "height": 35
        },
        "id": "Z5i_MNsmIyN8",
        "executionInfo": {
          "status": "ok",
          "timestamp": 1745511292804,
          "user_tz": -120,
          "elapsed": 5,
          "user": {
            "displayName": "\u85e4\u672c\u7fd4\u5927",
            "userId": "17448755615328061370"
          }
        },
        "outputId": "9a365a3a-953b-4854-d56c-98e32e85d2e4"
      },
      "execution_count": null,
      "outputs": [
        {
          "output_type": "execute_result",
          "data": {
            "text/plain": [
              "'/content/drive/MyDrive/nlp/Project'"
            ],
            "application/vnd.google.colaboratory.intrinsic+json": {
              "type": "string"
            }
          },
          "metadata": {},
          "execution_count": 2
        }
      ]
    },
    {
      "cell_type": "markdown",
      "source": [
        "Install datasets library"
      ],
      "metadata": {
        "id": "0WC5qUgAJPHQ"
      }
    },
    {
      "cell_type": "code",
      "execution_count": null,
      "metadata": {
        "colab": {
          "base_uri": "https://localhost:8080/"
        },
        "id": "ys13aAm9HMyb",
        "executionInfo": {
          "status": "ok",
          "timestamp": 1745511296679,
          "user_tz": -120,
          "elapsed": 2315,
          "user": {
            "displayName": "\u85e4\u672c\u7fd4\u5927",
            "userId": "17448755615328061370"
          }
        },
        "outputId": "d2c68953-356d-4d3d-a9db-309c64314f76"
      },
      "outputs": [
        {
          "output_type": "stream",
          "name": "stdout",
          "text": [
            "Requirement already satisfied: datasets in /usr/local/lib/python3.11/dist-packages (3.5.0)\n",
            "Requirement already satisfied: filelock in /usr/local/lib/python3.11/dist-packages (from datasets) (3.18.0)\n",
            "Requirement already satisfied: numpy>=1.17 in /usr/local/lib/python3.11/dist-packages (from datasets) (2.0.2)\n",
            "Requirement already satisfied: pyarrow>=15.0.0 in /usr/local/lib/python3.11/dist-packages (from datasets) (18.1.0)\n",
            "Requirement already satisfied: dill<0.3.9,>=0.3.0 in /usr/local/lib/python3.11/dist-packages (from datasets) (0.3.8)\n",
            "Requirement already satisfied: pandas in /usr/local/lib/python3.11/dist-packages (from datasets) (2.2.2)\n",
            "Requirement already satisfied: requests>=2.32.2 in /usr/local/lib/python3.11/dist-packages (from datasets) (2.32.3)\n",
            "Requirement already satisfied: tqdm>=4.66.3 in /usr/local/lib/python3.11/dist-packages (from datasets) (4.67.1)\n",
            "Requirement already satisfied: xxhash in /usr/local/lib/python3.11/dist-packages (from datasets) (3.5.0)\n",
            "Requirement already satisfied: multiprocess<0.70.17 in /usr/local/lib/python3.11/dist-packages (from datasets) (0.70.16)\n",
            "Requirement already satisfied: fsspec<=2024.12.0,>=2023.1.0 in /usr/local/lib/python3.11/dist-packages (from fsspec[http]<=2024.12.0,>=2023.1.0->datasets) (2024.12.0)\n",
            "Requirement already satisfied: aiohttp in /usr/local/lib/python3.11/dist-packages (from datasets) (3.11.15)\n",
            "Requirement already satisfied: huggingface-hub>=0.24.0 in /usr/local/lib/python3.11/dist-packages (from datasets) (0.30.2)\n",
            "Requirement already satisfied: packaging in /usr/local/lib/python3.11/dist-packages (from datasets) (24.2)\n",
            "Requirement already satisfied: pyyaml>=5.1 in /usr/local/lib/python3.11/dist-packages (from datasets) (6.0.2)\n",
            "Requirement already satisfied: aiohappyeyeballs>=2.3.0 in /usr/local/lib/python3.11/dist-packages (from aiohttp->datasets) (2.6.1)\n",
            "Requirement already satisfied: aiosignal>=1.1.2 in /usr/local/lib/python3.11/dist-packages (from aiohttp->datasets) (1.3.2)\n",
            "Requirement already satisfied: attrs>=17.3.0 in /usr/local/lib/python3.11/dist-packages (from aiohttp->datasets) (25.3.0)\n",
            "Requirement already satisfied: frozenlist>=1.1.1 in /usr/local/lib/python3.11/dist-packages (from aiohttp->datasets) (1.5.0)\n",
            "Requirement already satisfied: multidict<7.0,>=4.5 in /usr/local/lib/python3.11/dist-packages (from aiohttp->datasets) (6.4.3)\n",
            "Requirement already satisfied: propcache>=0.2.0 in /usr/local/lib/python3.11/dist-packages (from aiohttp->datasets) (0.3.1)\n",
            "Requirement already satisfied: yarl<2.0,>=1.17.0 in /usr/local/lib/python3.11/dist-packages (from aiohttp->datasets) (1.19.0)\n",
            "Requirement already satisfied: typing-extensions>=3.7.4.3 in /usr/local/lib/python3.11/dist-packages (from huggingface-hub>=0.24.0->datasets) (4.13.2)\n",
            "Requirement already satisfied: charset-normalizer<4,>=2 in /usr/local/lib/python3.11/dist-packages (from requests>=2.32.2->datasets) (3.4.1)\n",
            "Requirement already satisfied: idna<4,>=2.5 in /usr/local/lib/python3.11/dist-packages (from requests>=2.32.2->datasets) (3.10)\n",
            "Requirement already satisfied: urllib3<3,>=1.21.1 in /usr/local/lib/python3.11/dist-packages (from requests>=2.32.2->datasets) (2.3.0)\n",
            "Requirement already satisfied: certifi>=2017.4.17 in /usr/local/lib/python3.11/dist-packages (from requests>=2.32.2->datasets) (2025.1.31)\n",
            "Requirement already satisfied: python-dateutil>=2.8.2 in /usr/local/lib/python3.11/dist-packages (from pandas->datasets) (2.8.2)\n",
            "Requirement already satisfied: pytz>=2020.1 in /usr/local/lib/python3.11/dist-packages (from pandas->datasets) (2025.2)\n",
            "Requirement already satisfied: tzdata>=2022.7 in /usr/local/lib/python3.11/dist-packages (from pandas->datasets) (2025.2)\n",
            "Requirement already satisfied: six>=1.5 in /usr/local/lib/python3.11/dist-packages (from python-dateutil>=2.8.2->pandas->datasets) (1.17.0)\n"
          ]
        }
      ],
      "source": [
        "!pip install datasets"
      ]
    },
    {
      "cell_type": "markdown",
      "source": [
        "Download Retrieval-Augmented Generation (RAG) Dataset 12000"
      ],
      "metadata": {
        "id": "uCnbuOWFJV5z"
      }
    },
    {
      "cell_type": "code",
      "source": [
        "from datasets import load_dataset\n",
        "rag_dataset_train = load_dataset('neural-bridge/rag-dataset-12000', split='train')\n",
        "rag_dataset_test = load_dataset('neural-bridge/rag-dataset-12000', split='test')\n",
        "\n",
        "print(f\"Train dataset size: {len(rag_dataset_train)} \")\n",
        "print(f\"Test dataset size: {len(rag_dataset_test)} \")"
      ],
      "metadata": {
        "colab": {
          "base_uri": "https://localhost:8080/"
        },
        "id": "R5kZDSjNJgNz",
        "executionInfo": {
          "status": "ok",
          "timestamp": 1745511307960,
          "user_tz": -120,
          "elapsed": 6963,
          "user": {
            "displayName": "\u85e4\u672c\u7fd4\u5927",
            "userId": "17448755615328061370"
          }
        },
        "outputId": "63dfc26b-8303-47a0-8b42-99e6f14b7af4"
      },
      "execution_count": null,
      "outputs": [
        {
          "output_type": "stream",
          "name": "stdout",
          "text": [
            "Train dataset size: 9600 \n",
            "Test dataset size: 2400 \n"
          ]
        }
      ]
    },
    {
      "cell_type": "code",
      "source": [
        "print(f\"Train dataset features: {rag_dataset_train.column_names}\")\n",
        "rag_dataset_train"
      ],
      "metadata": {
        "colab": {
          "base_uri": "https://localhost:8080/"
        },
        "id": "Av4j5fWLNdPu",
        "executionInfo": {
          "status": "ok",
          "timestamp": 1745511310649,
          "user_tz": -120,
          "elapsed": 15,
          "user": {
            "displayName": "\u85e4\u672c\u7fd4\u5927",
            "userId": "17448755615328061370"
          }
        },
        "outputId": "6151c5e9-7a0e-419e-898f-34198c7de731"
      },
      "execution_count": null,
      "outputs": [
        {
          "output_type": "stream",
          "name": "stdout",
          "text": [
            "Train dataset features: ['context', 'question', 'answer']\n"
          ]
        },
        {
          "output_type": "execute_result",
          "data": {
            "text/plain": [
              "Dataset({\n",
              "    features: ['context', 'question', 'answer'],\n",
              "    num_rows: 9600\n",
              "})"
            ]
          },
          "metadata": {},
          "execution_count": 5
        }
      ]
    },
    {
      "cell_type": "code",
      "source": [
        "print(f\"Test dataset features: {rag_dataset_test.column_names}\")\n",
        "rag_dataset_test"
      ],
      "metadata": {
        "colab": {
          "base_uri": "https://localhost:8080/"
        },
        "id": "xV01USSnPl_p",
        "executionInfo": {
          "status": "ok",
          "timestamp": 1745511311947,
          "user_tz": -120,
          "elapsed": 25,
          "user": {
            "displayName": "\u85e4\u672c\u7fd4\u5927",
            "userId": "17448755615328061370"
          }
        },
        "outputId": "f210bb30-4338-4f38-a62c-854700ad5c77"
      },
      "execution_count": null,
      "outputs": [
        {
          "output_type": "stream",
          "name": "stdout",
          "text": [
            "Test dataset features: ['context', 'question', 'answer']\n"
          ]
        },
        {
          "output_type": "execute_result",
          "data": {
            "text/plain": [
              "Dataset({\n",
              "    features: ['context', 'question', 'answer'],\n",
              "    num_rows: 2400\n",
              "})"
            ]
          },
          "metadata": {},
          "execution_count": 6
        }
      ]
    },
    {
      "cell_type": "code",
      "source": [
        "# Train\u30c7\u30fc\u30bf\u304b\u3089 'question' \u7279\u5fb4\u91cf\u3092\u62bd\u51fa\n",
        "train_contexts = rag_dataset_train['context']\n",
        "train_questions = rag_dataset_train['question']\n",
        "train_answers = rag_dataset_train['answer']\n",
        "\n",
        "print(\"Train\u306equestion :\", train_questions[:2])\n",
        "print(\"Train\u306eanswer :\", train_answers[:2])"
      ],
      "metadata": {
        "colab": {
          "base_uri": "https://localhost:8080/"
        },
        "id": "d2vw-_xROVe8",
        "executionInfo": {
          "status": "ok",
          "timestamp": 1745511313752,
          "user_tz": -120,
          "elapsed": 287,
          "user": {
            "displayName": "\u85e4\u672c\u7fd4\u5927",
            "userId": "17448755615328061370"
          }
        },
        "outputId": "5aa3ab67-46b8-401b-e4e6-15379b5e6866"
      },
      "execution_count": null,
      "outputs": [
        {
          "output_type": "stream",
          "name": "stdout",
          "text": [
            "Train\u306equestion : ['What is the Berry Export Summary 2028 and what is its purpose?', 'What are some of the benefits reported from having access to Self-supply water sources?']\n",
            "Train\u306eanswer : ['The Berry Export Summary 2028 is a dedicated export plan for the Australian strawberry, raspberry, and blackberry industries. It maps the sectors\u2019 current position, where they want to be, high-opportunity markets, and next steps. The purpose of this plan is to grow their global presence over the next 10 years.', 'Benefits reported from having access to Self-supply water sources include convenience, less time spent for fetching water and access to more and better quality water. In some areas, Self-supply sources offer important added values such as water for productive use, income generation, family safety and improved food security.']\n"
          ]
        }
      ]
    },
    {
      "cell_type": "code",
      "source": [
        "# Test\u30c7\u30fc\u30bf\u304b\u3089 'question' \u7279\u5fb4\u91cf\u3092\u62bd\u51fa\n",
        "test_contexts = rag_dataset_test['context']\n",
        "test_questions = rag_dataset_test['question']\n",
        "test_answers = rag_dataset_test['answer']\n",
        "\n",
        "print(\"Test\u306equestion :\", test_questions[:2])\n",
        "print(\"Test\u306eanswer :\", test_answers[:2])"
      ],
      "metadata": {
        "colab": {
          "base_uri": "https://localhost:8080/"
        },
        "id": "rsZiKU8EO7UQ",
        "executionInfo": {
          "status": "ok",
          "timestamp": 1745511315204,
          "user_tz": -120,
          "elapsed": 28,
          "user": {
            "displayName": "\u85e4\u672c\u7fd4\u5927",
            "userId": "17448755615328061370"
          }
        },
        "outputId": "b3f0eb5e-2609-4452-92e7-fdbb8862cda2"
      },
      "execution_count": null,
      "outputs": [
        {
          "output_type": "stream",
          "name": "stdout",
          "text": [
            "Test\u306equestion : ['Who is the music director of the Quebec Symphony Orchestra?', 'Who were the four students of the University of Port Harcourt that were allegedly murdered?']\n",
            "Test\u306eanswer : ['The music director of the Quebec Symphony Orchestra is Fabien Gabel.', 'The four students of the University of Port Harcourt that were allegedly murdered were Chiadika Lordson, Ugonna Kelechi Obusor, Mike Lloyd Toku and Tekena Elkanah.']\n"
          ]
        }
      ]
    },
    {
      "cell_type": "markdown",
      "source": [
        "##Retrieval by SentenceTransformer and Reranking by CrossEncoder"
      ],
      "metadata": {
        "id": "2T2qQ5NrWGFr"
      }
    },
    {
      "cell_type": "markdown",
      "source": [
        "Import the two models for Retrieval and Reranking"
      ],
      "metadata": {
        "id": "8n449KQfWgzH"
      }
    },
    {
      "cell_type": "code",
      "source": [
        "from sentence_transformers import SentenceTransformer, CrossEncoder\n",
        "\n",
        "semb_model = SentenceTransformer('multi-qa-MiniLM-L6-cos-v1')\n",
        "xenc_model = CrossEncoder('cross-encoder/ms-marco-MiniLM-L-6-v2')"
      ],
      "metadata": {
        "id": "crr2UzUHPwqr"
      },
      "execution_count": null,
      "outputs": []
    },
    {
      "cell_type": "markdown",
      "source": [
        "Embed the contexts (Checkpoint the embeddings to avoid repeating the computation each time)"
      ],
      "metadata": {
        "id": "RXqwb2JQYPJ1"
      }
    },
    {
      "cell_type": "code",
      "source": [
        "import os\n",
        "import pickle\n",
        "\n",
        "# Define hnswlib index path\n",
        "embeddings_cache_path = './rag_context_train_embeddings_cache.pkl'\n",
        "\n",
        "# Load cache if available\n",
        "if os.path.exists(embeddings_cache_path):\n",
        "    print('Loading embeddings cache')\n",
        "    with open(embeddings_cache_path, 'rb') as f:\n",
        "        context_embeddings = pickle.load(f)\n",
        "# Else compute embeddings\n",
        "else:\n",
        "    print('Computing embeddings')\n",
        "    context_embeddings = semb_model.encode(train_contexts, convert_to_tensor=True, show_progress_bar=True)\n",
        "    # Save the index to a file for future loading\n",
        "    print(f'Saving index to: \\'{embeddings_cache_path}\\'')\n",
        "    with open(embeddings_cache_path, 'wb') as f:\n",
        "        pickle.dump(context_embeddings, f)"
      ],
      "metadata": {
        "colab": {
          "base_uri": "https://localhost:8080/"
        },
        "id": "BapxvM3yYOsF",
        "executionInfo": {
          "status": "ok",
          "timestamp": 1745511414912,
          "user_tz": -120,
          "elapsed": 5,
          "user": {
            "displayName": "\u85e4\u672c\u7fd4\u5927",
            "userId": "17448755615328061370"
          }
        },
        "outputId": "135288ef-6d51-47f3-8266-05b65dd7b8eb"
      },
      "execution_count": null,
      "outputs": [
        {
          "output_type": "stream",
          "name": "stdout",
          "text": [
            "Loading embeddings cache\n"
          ]
        }
      ]
    },
    {
      "cell_type": "markdown",
      "source": [
        "Index the embeddings"
      ],
      "metadata": {
        "id": "vkz0T825ZVs7"
      }
    },
    {
      "cell_type": "code",
      "source": [
        "!pip -q install hnswlib"
      ],
      "metadata": {
        "id": "6chKNdQYZU0g"
      },
      "execution_count": null,
      "outputs": []
    },
    {
      "cell_type": "code",
      "source": [
        "import os\n",
        "import hnswlib\n",
        "\n",
        "# Create empthy index\n",
        "index = hnswlib.Index(space='cosine', dim=384)\n",
        "\n",
        "# Define hnswlib index path\n",
        "index_path = './rag_context_train_hnswlib.index'\n",
        "\n",
        "# Load index if available\n",
        "if os.path.exists(index_path):\n",
        "    print('Loading index...')\n",
        "    index.load_index(index_path)\n",
        "# Else index data collection\n",
        "else:\n",
        "    # Initialise the index\n",
        "    print('Started creating HNSWLIB index')\n",
        "    index.init_index(max_elements=context_embeddings.size(0), ef_construction=400, M=64)\n",
        "    #  Compute the HNSWLIB index (it may take a while)\n",
        "    index.add_items(context_embeddings.cpu(), list(range(len(context_embeddings))))\n",
        "    # Save the index to a file for future loading\n",
        "    print(f'Saving index to: {index_path}')\n",
        "    index.save_index(index_path)"
      ],
      "metadata": {
        "colab": {
          "base_uri": "https://localhost:8080/"
        },
        "id": "ogI9bZcpZmDh",
        "executionInfo": {
          "status": "ok",
          "timestamp": 1745511422995,
          "user_tz": -120,
          "elapsed": 227,
          "user": {
            "displayName": "\u85e4\u672c\u7fd4\u5927",
            "userId": "17448755615328061370"
          }
        },
        "outputId": "74455bee-523b-4b10-ba0c-92c25dae496b"
      },
      "execution_count": null,
      "outputs": [
        {
          "output_type": "stream",
          "name": "stdout",
          "text": [
            "Loading index...\n"
          ]
        }
      ]
    },
    {
      "cell_type": "markdown",
      "source": [
        "Try with FLAN T5"
      ],
      "metadata": {
        "id": "EeOqAwiVch3-"
      }
    },
    {
      "cell_type": "code",
      "source": [
        "import torch\n",
        "from transformers import T5Tokenizer, T5ForConditionalGeneration\n",
        "\n",
        "device = torch.device('cuda' if torch.cuda.is_available() else 'cpu')\n",
        "\n",
        "tokenizer = T5Tokenizer.from_pretrained(\"google/flan-t5-large\")\n",
        "model = T5ForConditionalGeneration.from_pretrained(\"google/flan-t5-large\", device_map=\"cuda\", torch_dtype=torch.bfloat16)"
      ],
      "metadata": {
        "colab": {
          "base_uri": "https://localhost:8080/",
          "height": 352,
          "referenced_widgets": [
            "b139c7f6e2584f1ea448137bb01df16c",
            "3c15aef2b4da41a6a0427a1ed417edd4",
            "6f4ef7e5313d4896b78806e19ac95059",
            "8fae4b625ba64993954d7ee084caa241",
            "3182ea48989c4be2a598f0556277fb3a",
            "22443e20563a43ad876cc8b058b68408",
            "4dee12d7dfb5440eb39d3a04602c5063",
            "b4ecb61a2e8b48a1b0da1c59d21f3375",
            "914ca04a342847afa7f13583a695ed39",
            "e59be33c59d347809382c9e2c1f1975e",
            "ffc1e21e8f1b483088a76081440c9444",
            "e6ff60b909fd444881b18e2e27a8d217",
            "e3acd9311e3e42cb82d518aba21657bc",
            "c3c53b7e85334a5690540e517c932e36",
            "e375dc36ced847478b580c4a9380c093",
            "ea394f848b4d4b7e8260bfb91937e05f",
            "c7192eb0791040d78c6eb5af0d13ed82",
            "43e7e9bda71c44e0b9cf3db36b7891d8",
            "7470c187d19740198880802a58686940",
            "ad1bede6cd654fb9aa10f4c627cad676",
            "36191baed50e4ffeb64f633d3ea1a186",
            "84274e3f46b54defafbbc310a18024a3",
            "7a65284c3ded4ef88db0cac8d5ca305e",
            "112e7ef8672246259ec2a076669affc3",
            "c51ec617121b495bb3295ecf53916c3b",
            "9c7f7788337544e49c969d876ec6fb5e",
            "f9c06f0969b54ce288a19d4e189c915f",
            "ab52c9899587407183259b1a5dec0bfe",
            "745670e9e4bf480aa6bee07535a9510b",
            "ecd794d3123a4f468b90f6126d46515e",
            "8587f8ff1df2434b97a1cc5b2d60a137",
            "bc9f343807834317980b19112f19a58f",
            "1b0583ac72a24d8098ceb55920abdbff",
            "eb4f4b90e0b145a7b1e27b7b56a5f300",
            "33701cff7a27452aaeab8445da1f7c81",
            "aac15992cea84f4aa038a022e0cbccf6",
            "e28d9e6c22154f80b775d2f63d38ab44",
            "f1e31385ad04422faa06dc9bb88a2404",
            "c86d524d07114858b835ac030d1c3cd8",
            "b2006a63d00444469f9ae1142d3f39d1",
            "cbca8450b87e4a0a8787f9d86869a504",
            "e9d29791abb04b4e82f18b6794c27ddd",
            "3eda62df7c1b4b34aded737d54770faf",
            "29101d19b65946b4a65150bbcd11afd0",
            "5ae784910f57459a8a7c4939ee77f574",
            "acce83472db3483b8acd35dd7e2a194a",
            "7771d23cc925431dafba2fe307a3dcc2",
            "411311f1c1254f90ac426dc5ed258c35",
            "c44ba1c9f7e449d4bb47eff2e3c164dd",
            "a4bc5a64bcba4a88af3648f1298a912a",
            "ab0d4eb5625d44b1bde22764cf8c3c6a",
            "08d8d3dfc45a4aff87e8fd71bb474418",
            "3eb7b8e8ffac4e1e957bd56f704f2b0f",
            "1b12c4d4507d427c9a7adf9382a29e69",
            "1be5a4987a964e5eb1b853977c32033c",
            "f17337a691c64fccb69e65db7be322e5",
            "520a77665f564d10a221c31bafd624ae",
            "fea456e0a2504a03b79a978d1f31f06d",
            "8e9f3d9a8f44443caf5306b7af01c962",
            "b018cdf1047040fc91c1f0142f0bd747",
            "4b8c05b7adee4719a3dd5f0e50a47bbe",
            "907caf9be3394499847c30fb04b86159",
            "e2fc011eed5b48a98e0badd15b52be88",
            "e2c4cad0a5ff4a8e8c91c2a8ac66bdf4",
            "17edc2bebd7a405baf656929d9de3f8f",
            "4d0d599bc1fd4e2f8fc5afaf588dd1b0",
            "2266f760ea474af99281da59cd9290b1",
            "1d9a1431ab3946d487a8128bb32c5526",
            "584ddded93ab42e6849bf48f4e82284c",
            "4f67eac83aef42cf99d664833f2eac7c",
            "ecf34e9670074680b7d1c57bfe052612",
            "b3d3a121d25f4c53b7a02919d63f8eb5",
            "aaedba0e41a449a1b5871d87c69e2df7",
            "9a337351963847e7953c06d9b7c595be",
            "fe928991198f4ab0b5244da1d2fe994c",
            "9a686ab9ec1d4304bc2dc1046daf5523",
            "3ce7ef2cb14c455787e8c159c41525c9"
          ]
        },
        "id": "ly74QQcGchPF",
        "executionInfo": {
          "status": "ok",
          "timestamp": 1745510198176,
          "user_tz": -120,
          "elapsed": 31621,
          "user": {
            "displayName": "\u85e4\u672c\u7fd4\u5927",
            "userId": "17448755615328061370"
          }
        },
        "outputId": "1984948f-9a47-4ad3-d5ce-c4d24ea51b21"
      },
      "execution_count": null,
      "outputs": [
        {
          "output_type": "display_data",
          "data": {
            "text/plain": [
              "tokenizer_config.json:   0%|          | 0.00/2.54k [00:00<?, ?B/s]"
            ],
            "application/vnd.jupyter.widget-view+json": {
              "version_major": 2,
              "version_minor": 0,
              "model_id": "b139c7f6e2584f1ea448137bb01df16c"
            }
          },
          "metadata": {}
        },
        {
          "output_type": "stream",
          "name": "stderr",
          "text": [
            "Xet Storage is enabled for this repo, but the 'hf_xet' package is not installed. Falling back to regular HTTP download. For better performance, install the package with: `pip install huggingface_hub[hf_xet]` or `pip install hf_xet`\n",
            "WARNING:huggingface_hub.file_download:Xet Storage is enabled for this repo, but the 'hf_xet' package is not installed. Falling back to regular HTTP download. For better performance, install the package with: `pip install huggingface_hub[hf_xet]` or `pip install hf_xet`\n"
          ]
        },
        {
          "output_type": "display_data",
          "data": {
            "text/plain": [
              "spiece.model:   0%|          | 0.00/792k [00:00<?, ?B/s]"
            ],
            "application/vnd.jupyter.widget-view+json": {
              "version_major": 2,
              "version_minor": 0,
              "model_id": "e6ff60b909fd444881b18e2e27a8d217"
            }
          },
          "metadata": {}
        },
        {
          "output_type": "display_data",
          "data": {
            "text/plain": [
              "special_tokens_map.json:   0%|          | 0.00/2.20k [00:00<?, ?B/s]"
            ],
            "application/vnd.jupyter.widget-view+json": {
              "version_major": 2,
              "version_minor": 0,
              "model_id": "7a65284c3ded4ef88db0cac8d5ca305e"
            }
          },
          "metadata": {}
        },
        {
          "output_type": "display_data",
          "data": {
            "text/plain": [
              "tokenizer.json:   0%|          | 0.00/2.42M [00:00<?, ?B/s]"
            ],
            "application/vnd.jupyter.widget-view+json": {
              "version_major": 2,
              "version_minor": 0,
              "model_id": "eb4f4b90e0b145a7b1e27b7b56a5f300"
            }
          },
          "metadata": {}
        },
        {
          "output_type": "stream",
          "name": "stderr",
          "text": [
            "You are using the default legacy behaviour of the <class 'transformers.models.t5.tokenization_t5.T5Tokenizer'>. This is expected, and simply means that the `legacy` (previous) behavior will be used so nothing changes for you. If you want to use the new behaviour, set `legacy=False`. This should only be set if you understand what it means, and thoroughly read the reason why this was added as explained in https://github.com/huggingface/transformers/pull/24565\n"
          ]
        },
        {
          "output_type": "display_data",
          "data": {
            "text/plain": [
              "config.json:   0%|          | 0.00/662 [00:00<?, ?B/s]"
            ],
            "application/vnd.jupyter.widget-view+json": {
              "version_major": 2,
              "version_minor": 0,
              "model_id": "5ae784910f57459a8a7c4939ee77f574"
            }
          },
          "metadata": {}
        },
        {
          "output_type": "stream",
          "name": "stderr",
          "text": [
            "Xet Storage is enabled for this repo, but the 'hf_xet' package is not installed. Falling back to regular HTTP download. For better performance, install the package with: `pip install huggingface_hub[hf_xet]` or `pip install hf_xet`\n",
            "WARNING:huggingface_hub.file_download:Xet Storage is enabled for this repo, but the 'hf_xet' package is not installed. Falling back to regular HTTP download. For better performance, install the package with: `pip install huggingface_hub[hf_xet]` or `pip install hf_xet`\n"
          ]
        },
        {
          "output_type": "display_data",
          "data": {
            "text/plain": [
              "model.safetensors:   0%|          | 0.00/3.13G [00:00<?, ?B/s]"
            ],
            "application/vnd.jupyter.widget-view+json": {
              "version_major": 2,
              "version_minor": 0,
              "model_id": "f17337a691c64fccb69e65db7be322e5"
            }
          },
          "metadata": {}
        },
        {
          "output_type": "display_data",
          "data": {
            "text/plain": [
              "generation_config.json:   0%|          | 0.00/147 [00:00<?, ?B/s]"
            ],
            "application/vnd.jupyter.widget-view+json": {
              "version_major": 2,
              "version_minor": 0,
              "model_id": "2266f760ea474af99281da59cd9290b1"
            }
          },
          "metadata": {}
        }
      ]
    },
    {
      "cell_type": "code",
      "source": [
        "import random\n",
        "\n",
        "random.seed(1995)\n",
        "\n",
        "idx = random.choice(range(len(train_questions)))\n",
        "\n",
        "question = train_questions[0]\n",
        "target_answer = train_answers[0]\n",
        "\n",
        "print(f'Question {idx}: {question}?')"
      ],
      "metadata": {
        "colab": {
          "base_uri": "https://localhost:8080/"
        },
        "id": "CuSdkMEwctBB",
        "executionInfo": {
          "status": "ok",
          "timestamp": 1745511529677,
          "user_tz": -120,
          "elapsed": 5,
          "user": {
            "displayName": "\u85e4\u672c\u7fd4\u5927",
            "userId": "17448755615328061370"
          }
        },
        "outputId": "337110c9-8803-429c-fdbc-8bf02a4beada"
      },
      "execution_count": null,
      "outputs": [
        {
          "output_type": "stream",
          "name": "stdout",
          "text": [
            "Question 7445: What is the Berry Export Summary 2028 and what is its purpose??\n"
          ]
        }
      ]
    },
    {
      "cell_type": "markdown",
      "source": [
        "Embed the question"
      ],
      "metadata": {
        "id": "sj4rqvubduIW"
      }
    },
    {
      "cell_type": "code",
      "source": [
        "question_embedding = semb_model.encode(question, convert_to_tensor=True)"
      ],
      "metadata": {
        "id": "Qnq0LUuNdvSi"
      },
      "execution_count": null,
      "outputs": []
    },
    {
      "cell_type": "markdown",
      "source": [
        "Retrieve relevant documents keeping top $k$ matches"
      ],
      "metadata": {
        "id": "xeS8TDped2IT"
      }
    },
    {
      "cell_type": "code",
      "source": [
        "corpus_ids, distances = index.knn_query(question_embedding.cpu(), k=64)\n",
        "scores = 1 - distances\n",
        "\n",
        "print(\"Cosine similarity model search results\")\n",
        "print(f\"Query: \\\"{question}\\\"\")\n",
        "print(\"---------------------------------------\")\n",
        "for idx, score in zip(corpus_ids[0][:5], scores[0][:5]):\n",
        "    print(f\"Score: {score:.4f}\\nDocument: \\\"{train_contexts[idx][:100]}\\\"\\n\\n\")"
      ],
      "metadata": {
        "colab": {
          "base_uri": "https://localhost:8080/"
        },
        "id": "t5KmS6Iid1Wj",
        "executionInfo": {
          "status": "ok",
          "timestamp": 1745511541628,
          "user_tz": -120,
          "elapsed": 53,
          "user": {
            "displayName": "\u85e4\u672c\u7fd4\u5927",
            "userId": "17448755615328061370"
          }
        },
        "outputId": "3d1afcaa-2b28-4abd-e8a0-f3a5162b6fd5"
      },
      "execution_count": null,
      "outputs": [
        {
          "output_type": "stream",
          "name": "stdout",
          "text": [
            "Cosine similarity model search results\n",
            "Query: \"What is the Berry Export Summary 2028 and what is its purpose?\"\n",
            "---------------------------------------\n",
            "Score: 0.5690\n",
            "Document: \"Caption: Tasmanian berry grower Nic Hansen showing Macau chef Antimo Merone around his property as p\"\n",
            "\n",
            "\n",
            "Score: 0.4219\n",
            "Document: \"Amazon Produce Network adds position\n",
            "Amazon Produce Network, Mullica Hill, N.J., has added a grower \"\n",
            "\n",
            "\n",
            "Score: 0.3912\n",
            "Document: \"Ingredients\n",
            "- Spring water from Norwich\n",
            "- Grape 6%\n",
            "- Cranberry 1%\n",
            "- Raspberry 1%\n",
            "- Sugar\n",
            "- Citric ac\"\n",
            "\n",
            "\n",
            "Score: 0.3812\n",
            "Document: \"Her Majesty Queen Elizabeth II, looking smashing in a pale yellow dress with gold buttons, and a mat\"\n",
            "\n",
            "\n",
            "Score: 0.3630\n",
            "Document: \"ps- check out The One Smith for more tunes: CDbaby The download collected works vol. 49 of tracking \"\n",
            "\n",
            "\n"
          ]
        }
      ]
    },
    {
      "cell_type": "markdown",
      "source": [
        "Re-rank retrieved documents"
      ],
      "metadata": {
        "id": "AM3Zc59Peffq"
      }
    },
    {
      "cell_type": "code",
      "source": [
        "import numpy as np\n",
        "\n",
        "model_inputs = [(question, train_contexts[idx]) for idx in corpus_ids[0]]\n",
        "cross_scores = xenc_model.predict(model_inputs)\n",
        "\n",
        "print(\"Cross-encoder model re-ranking results\")\n",
        "print(f\"Query: \\\"{question}\\\"\")\n",
        "print(\"---------------------------------------\")\n",
        "for idx in np.argsort(-cross_scores)[:5]:\n",
        "    print(f\"Score: {cross_scores[idx]:.4f}\\nDocument: \\\"{train_contexts[corpus_ids[0][idx]]}\\\"\\n\\n\")"
      ],
      "metadata": {
        "colab": {
          "base_uri": "https://localhost:8080/"
        },
        "id": "TJjOsfAbeebS",
        "executionInfo": {
          "status": "ok",
          "timestamp": 1745511545942,
          "user_tz": -120,
          "elapsed": 554,
          "user": {
            "displayName": "\u85e4\u672c\u7fd4\u5927",
            "userId": "17448755615328061370"
          }
        },
        "outputId": "ba187284-6ebd-4591-bf3a-01fc3fa37f38"
      },
      "execution_count": null,
      "outputs": [
        {
          "output_type": "stream",
          "name": "stdout",
          "text": [
            "Cross-encoder model re-ranking results\n",
            "Query: \"What is the Berry Export Summary 2028 and what is its purpose?\"\n",
            "---------------------------------------\n",
            "Score: 4.1088\n",
            "Document: \"Caption: Tasmanian berry grower Nic Hansen showing Macau chef Antimo Merone around his property as part of export engagement activities.\n",
            "THE RISE and rise of the Australian strawberry, raspberry and blackberry industries has seen the sectors redouble their international trade focus, with the release of a dedicated export plan to grow their global presence over the next 10 years.\n",
            "Driven by significant grower input, the Berry Export Summary 2028 maps the sectors\u2019 current position, where they want to be, high-opportunity markets and next steps.\n",
            "Hort Innovation trade manager Jenny Van de Meeberg said the value and volume of raspberry and blackberry exports rose by 100 per cent between 2016 and 2017. She said the Australian strawberry industry experienced similar success with an almost 30 per cent rise in export volume and a 26 per cent rise in value to $32.6M over the same period.\n",
            "\u201cAustralian berry sectors are in a firm position at the moment,\u201d she said. \u201cProduction, adoption of protected substrate cropping, improved genetics and an expanding geographic footprint have all helped put Aussie berries on a positive trajectory.\n",
            "\u201cWe are seeing a real transition point. Broad industry interest and a strong commercial appetite for export market development combined with the potential to capitalise on existing trade agreements and build new trade partnerships has created this perfect environment for growth.\u201d\n",
            "High-income countries across Europe, North America and Northern Asia have been identified as having a palate for Australian grown berries with more than 4244 tonnes of fresh berries exported in the last financial year alone.\n",
            "The strategy identified the best short-term prospect markets for the Australian blackberry and raspberry industry as Hong Kong, Singapore, The United Arab Emirates and Canada. The strongest short-term trade options identified for the strawberry sector were Thailand, Malaysia, New Zealand and Macau.\n",
            "The strategy focuses heavily on growing the existing strawberry export market from 4 per cent to at least 8 per cent of national production by volume, in markets with a capacity and willingness to pay a premium for quality fruit. For raspberries and blackberries, the sectors aim to achieve a 5 per cent boost in exports assessed by volume across identified markets by 2021.\n",
            "Tasmanian raspberry exporter Nic Hansen said Australia offers some of the sweetest and most attractive berries in the world, and this combined with our stringent food safety standards across all stages of the supply chain puts growers in a solid position.\n",
            "\u201cWe have a great product, we are hungry to expand trade and now with this new plan in place, we have a clear roadmap towards driving growth,\u201d Mr Hansen said.\n",
            "He said it is exciting to see new export market prospects for raspberries: \u201cThe more options we have for export the better. Now we just have to get on with the job of ensuring industry has all the tools it needs, such as supporting data and relationship building opportunities, to thrive in new markets.\u201d\n",
            "This project was commissioned by Hort Innovation, and developed by market analysts and research consultants Auspex Strategic Advisory and AgInfinity. Hort Innovation will work now with berry sectors to determine levy-funded activities to support trade.\n",
            "See a summary of the strategy on the Hort Innovation website.\n",
            "For more information on the berry industries, refer to the Horticulture Statistics Handbook and the Strategic Investment Plans for strawberries, raspberries and blackberries. Growers seeking more information should email trade@horticulture.com.au\"\n",
            "\n",
            "\n",
            "Score: -9.0206\n",
            "Document: \"The past two decades have seen globalization of the world\u2019s wine markets proceed like never before, in both speed and comprehensiveness. There was a degree of trade expansion in the five decades to World War I but, until the late 20th century, interactions across continents involved little more than the exporting of vine cuttings and traditional production expertise. Indeed most wine was consumed in the country of production, and those countries were mostly in Europe.\n",
            "The fall in transport and communication costs since the 1980s is largely responsible for the change. That has made it affordable for many more producers to focus on exports, and for some to also focus on mergers or acquisitions.\n",
            "Falling international trade costs and de-regulation of liquor retailing have also allowed large supermarket chains to become buyers of both bottled or bag-in-box wines and wine for building their own brands.\n",
            "Retailing through such chain stores requires large quantities of homogenous wine year after year. Producers in the New World were more adept at initially responding to this new demand, creating a huge new category of robust, fruity \u2018commercial premium\u2019 wines that fall between expensive fine wines and cheap non-premium (\u2018table\u2019) wines.\n",
            "The share of global wine production exported, which had always been below 15 per cent and mostly Mediterranean or intra-European, grew dramatically from the late 1980s. By 2012 it exceeded 40 per cent.\n",
            "The New World\u2019s share of global wine exports rose from 3 per cent in the late 1980s to 25 per cent (if sparkling wine is excluded) by 2004.\n",
            "Recognizing their poor performance, Europe\u2019s producers during the past decade have been adapting their practices to compete. The three leading European wine-exporting countries as a group now export almost half their production, up from just one-fifth a generation ago.\n",
            "Simultaneously, New World producers are seeking to expand their exports of more-expensive wines to complement their lower-end products. The next phase of wine\u2019s globalization therefore may involve a convergence whereby both groups produce terroir-driven super-premium wines alongside more-affordable \u2018commercial premium\u2019 branded wines. Meanwhile, cheap basic non-premium wines are continuing their demise.\n",
            "Technological developments are rapidly altering the means of exporting commercial premium wines. In the past decade or so the share of wine that is exported from the New World in bulk shipping containers has risen from less than 15 to more than 40 percent. Bottling in the country of destination is sometimes cheaper, and it lowers the cost and carbon footprint of shipping. By shipping in 24,000-litre bladders to fit 20-foot containers, this new technology offers greater opportunities to blend wines from any region of the world.\n",
            "Greater openness to trade means winemakers and hence grapegrowers are far more exposed now than pre-1990 to exchange rate volatility, and also to greater import competition in their domestic market as consumers seek to choose from an ever-broader range of wines. Wide fluctuations in exchange rates since the global financial crisis began in 2008 have substantially altered national shares in key markets.\n",
            "Greater openness and international travel also alter tastes and preferences. Nowhere has this been more obvious in the case of wine than in China. Chinese wine imports grew more than 50 percent per year during 2006-12. With the number of middle class in China currently around 250 million and growing at 10 million per year, and with grape wine accounting for less than 5 percent of alcohol consumption, further large increases in wine consumption are expected. How much of that Chinese demand will be supplied by domestic producers is difficult to guess, but import growth is likely to continue for the foreseeable future (see Wittwer and Anderson 2015).\n",
            "Recent Comments\n",
            "[\u2026] professor Kym Anderson reports on the continued globalization of the wine business and paints a picture of what the future looks [\u2026]\"\n",
            "\n",
            "\n",
            "Score: -9.7471\n",
            "Document: \"Ingredients\n",
            "- Spring water from Norwich\n",
            "- Grape 6%\n",
            "- Cranberry 1%\n",
            "- Raspberry 1%\n",
            "- Sugar\n",
            "- Citric acid\n",
            "- Natural flavourings\n",
            "- Anthocycanin\n",
            "- Potassium sorbate\n",
            "- Dimethyl dicarbonate\n",
            "Published May 2011\n",
            "The producers, Britvic, say that this is \"juicy spring water\" which is true, but it contains a relatively high level of sugar, and consequently provides 145 Calories per bottle. However, there is a diet form of this drink which has only 10 Calories.\n",
            "Ingredients\n",
            "Spring water from Norwich originates in an underground water source (spring or bore hole) and Drench is apparently bottled at source.\n",
            "Fruit juices are grape juice 6%, cranberry juice 1%, and raspberry juice 1%, all of which are natural.\n",
            "Sugar is no longer seen as a healthy food but it does provide sweetness and energy. It is now being used to make biofuels by fermenting it to form ethanol (C2H5OH, aka alcohol) and a plant is being built in Hull to convert the UK's sugar beet crop into a second generation biofuel called biobutanol (C4H9OH) which can be blended with petrol better and it delivers more energy per molecule.\n",
            "Citric acid (aka E330 chemical formula C6H8O7 with three acid groupings). This is produced naturally by citrus fruits but is now more cheaply manufactured by fermenting starch with the fungus Aspergillus niger. It gives the drink added tanginess and acts as a preservative.\n",
            "Citric acid is used in surface cleaners to remove limescale and is particularly recommended for cleaning glass surfaces. It is added to products that are designed to fizz when added to water. The explosive HMTD (hexamethylene triperoxide diamine) is made from citric acid.\n",
            "Natural flavourings are unspecified but the molecules which give fruits their characteristic aromas are known and can be purchased as individual chemicals. Those present in raspberry are 1-(p-hydroxyphenyl)-3-butanone, cis-3-hexene-1-ol, damascenone, ?-ionone, and ?-ionone, while those in cranberries they are ethyl-2-methylbutyrate, ethyl-3-methylbutryate, and trans-2-hexenal.\n",
            "Some of these chemicals are also manufactured and used in perfumes. For example, ?-ionone provides a sweet violet odour while ?-ionone provides one that is reminiscent of cedar wood.\n",
            "Anthocycanin (aka E163) is a food colorant and these types of molecules, of which there are several, are found in nature and give petals their red, blue or purple colours, and are designed to attract pollinating insects like bees. (The colour depends to a certain extent on acidity.)\n",
            "Anthocyanins also acts as powerful antioxidants and are a key part of fruits such as red grapes, blueberries, and raspberries, which is why these are thought to be particularly beneficial. Anthocyanins also have potential for use in solar cells, the so-called dye-sensitive solar cells.\n",
            "Potassium sorbate (aka E202) is a powerful preservative and used in foods and drinks. It is a highly effective fungicide that interferes with the reproductive capabilities of moulds and yeasts.\n",
            "Dimethyl dicarbonate (C4H6O5) consists of two methyl carbonate molecules (CH3OC(O)OC(O)OCH3) joined together via a common oxygen atom. This molecule acts as a preservative, especially for drinks, by disabling enzymes in microbes like yeasts which can cause spoilage. It is now being added to wines in place of sulfur dioxide to which some people are sensitive.\"\n",
            "\n",
            "\n",
            "Score: -9.8721\n",
            "Document: \"Finding the right health and wellness products for one\u2019s needs can be extremely difficult, especially for those who are looking for natural and safe options. Those who do find the right health brands will notice that hemp-based products are becoming an increasingly popular option. Such products, when chosen correctly, can change one\u2019s quality of life and health.\n",
            "That being said, this review would like to introduce a new brand called Phivida. The hemp-based formulas provide continuous support for optimal wellness and health. Further, the brand\u2019s approach to product generation is one that individuals can count on.\n",
            "What is Phivida?\n",
            "Phivida is a new health and wellness brand whose products are hemp-based options. The brand\u2019s formulas are made with \u201cphi\u201d and \u201cvida.\u201d As the brand explains, the former stands for the \u201cgold ratio,\u201d which is a sacred mathematical formula from which all creation grows. On the other hand, the latter stands for \u201cliving life to the fullness.\u201d\n",
            "As users can tell, Phivida is utilizes a creative and unique solution to its product generation process, which potentially means wholesome and effective formulas that users can count on to provide them with the right outcomes.\n",
            "Four Key Phivida Options\n",
            "While Phivida may offer a range of formulas, its most popular product options are on the main page. Each formula is infused potent and powerful hemp oil. Here is a bit about each product so that users know what they can look forward to when choosing Phivida:\n",
            "Phivida Hemp Oil Infused Vitamin Juices\n",
            "Those who love juice and who are looking to enjoy from a boost of hemp oil as well may want to consider the brand\u2019s Hemp Oil Infused Vitamin Juices. These juices contain 25 milligrams of hemp oil, 25 vitamins and minerals, they are nano-encapsulated, and they are all-organic as well. Those who use these juices can expect sustained energy throughout the day.\n",
            "Further, the juices come in the following flavor options:\n",
            "- Orange\n",
            "- Berry\n",
            "- Pomegranate\n",
            "Phivita Hemp Oil Infused Vitamin Shots\n",
            "Phivita Hemp Oil Infused Vitamin Shots contain a high concentration of hemp oil \u2013 10 mg to be exact. The formula contains a special blend of ingredients that is inspired by eastern tradition.\n",
            "Those who use these shots can expect to experience improved cognitive function, better memory, a stronger attention span, and better cognitive health in general. Very few products on the market provide the same cognitive support as this one. Further, this product comes in the same flavor options as the vitamin juices.\n",
            "Vida Premium Oil Extract\n",
            "A very unique option is the Vida Oil Extracts. These are professional-strength and clinical-grade formulas that contain all-organic hemp oil. Those who use this particular line of products can get a highly concentrated boost of hemp oil, without anything else.\n",
            "The product is vegan, it does not contain soy or nuts or gluten, and it is contained in child-proof packaging so that parents do not need to be concerned. The shelf life of the product is high as well due to the UV packaging.\n",
            "Phivita Sweet Ice Tea\n",
            "Lastly, the brand also offers Phivita Sweet Iced Tea. This ice tea beverage is made out of organic and premium-grade ingredients that are infused with organic and 100% certified hemp. Those who drink this beverage can experience a boost from 25 grams of hemp oil, 25 vitamins and minerals, and of course \u2013 the refreshing taste of iced tea as well. The nano-encapsulated quality of the formula safeguards the product\u2019s bioavailability as well.\n",
            "Overall, there are many interesting options that individuals can find when visiting the Phivita website. The products improve one\u2019s health in various areas, such as focus, cognition, digestion, energy levels, and the like. Users can find the right flavor options and product that ultimately suits their needs when browsing through the site.\n",
            "Special Discounts\n",
            "It is always great to purchase a product with a discount on hand. Luckily, those who visit the Phivita website will find that by registering their email and their name through the website, they\u2019ll be able to receive a discount to their email to use when checking out on an order. To receive the discount, simply visit the brand\u2019s website and go through the necessary steps.\n",
            "Phivida Summary\n",
            "Overall, those who are interested in wholesome, delicious, and high-end hemp-based formulas may want to try Phivita. The brand\u2019s products are unique, they are made out of all-natural and safe ingredients, and they provide men and women with the daily support that they need to live well.\n",
            "Additionally, individuals should be aware that the products have not been evaluated by the Food and Drug Administration and further, they are not intended to diagnose, treat, cure, or prevent any disease. To learn more about the brand and its products, just visit the brand\u2019s website today to get started.\"\n",
            "\n",
            "\n",
            "Score: -10.1514\n",
            "Document: \"LOS ANGELES--(EON: Enhanced Online News)--TriLinc Global Impact Fund (\u201cTriLinc\u201d or the \u201cCompany\u201d) announced today that it recently approved $19.9 million in term loan and trade finance transactions with companies operating in Africa and Latin America. The transaction details are summarized below.\n",
            "\u201cTriLinc\u2019s recent investments demonstrate our support of enterprises, such as the Uruguayan citrus producer, that seek to improve their position as competitive players in the international marketplace\u201d.9 million in term loan and trade finance transactions which meet the Company\u2019s requirements for underwriting, economic development, and societal advancement, as described below:\n",
            "Between February 2, 2017 and February 24, 2017, the Company funded five separate transactions, totaling $1,739,000, as part of an existing $5,000,000 revolving trade finance facility with a Dolphin-Safe certified Ecuadorian tuna processor and exporter. Priced at 9.50%, all transactions are set to mature on May 9, 2017 of extensive training programs upon hiring, and performing human resource studies to measure the happiness and efficiency of its employees.\n",
            "On February 3, 2017, the Company funded two separate transactions, totaling $940,000, as part of an existing senior secured purchase order revolving credit facility to a Peruvian diaper manufacturer. Priced at 12.00%, both transactions are set to mature on July 28, 2021. The borrower anticipates that TriLinc\u2019s financing will support the borrower\u2019s efforts in expanding its distribution network to continue offering high quality products to low-income families throughout Peru.\n",
            "On February 3, 2017, the Company funded an additional $2,500,000 as part of an existing $15,000,000 trade finance facility with an Argentine agriculture products distributor that works extensively throughout the local agribusiness supply chain. Secured by purchase contracts and receivables, the transaction is set to mature on July 18, 2017 and has a fixed interest rate of 9.00%. The borrower anticipates that TriLinc\u2019s financing will support economic growth through job creation and increased exports. With a mission to enhance its producers\u2019 agricultural productivity, the borrower offers training programs on topics such as sustainable water usage and post-harvest storage management.\n",
            "Between February 3, 2017 and February 24, 2017, the Company funded nine separate transactions, totaling $6,062,875 on June 6, 2017. February 8, 2017, the Company funded $3,390,322 as part of an existing $5,000,000 pre-export trade finance facility to an Italian-based international development logistics provider contracted by the United Nations to consolidate and ship prefabricated housing units and materials for UN mission personnel throughout Africa. With an interest rate of 9.5% and maturity date of December 31, 2017, this transaction is secured by cash, inventory, and receivables. It is anticipated that TriLinc\u2019s financing will allow the borrower to access new markets and continue supporting the UN\u2019s operations across Sub-Saharan Africa.\n",
            "Between February 8, 2017 and February 28, 2017, the Company funded four separate transactions, totaling $2,393,672 as part of a new  transactions are set to mature on February 3, 2018 and are secured by inventory. TriLinc\u2019s financing is anticipated to support the borrower\u2019s efforts in increasing agricultural production to meet the demand stemming from new international markets, thereby facilitating export diversification in Uruguay.\n",
            "On February 21, 2017, the Company funded $1,234,145 as part of an existing $2,500,000 purchase and repurchase trade finance facility at a fixed interest rate of 17.50% to a South African mine remediation company. The transaction is set to mature on September 28, 2017 and is secured by the tailings site. Engaged in the removal and sale of metal tailings from a recently shuttered zinc mine, the borrower also aims to mitigate the environmental effects of the former mine site by remediating the land, creating a rehabilitation fund, dismantling and disposing of mining equipment, and monitoring ground water quality. The borrower anticipates that TriLinc\u2019s financing will enable it to generate new mine servicing and remediation jobs. Once the tailings extraction is complete and the site is deemed to be completely rehabilitated by South African regulatory authorities, the borrower intends to donate the property to the community for affordable housing development.\n",
            "On February 28, 2017, the Company funded $1,664,419 July 25, 2017, and is secured by a bill of exchange and sales contracts. TriLinc\u2019s financing will facilitate the trade of London Metal Exchange registered, full plate nickel cathodes which are used extensively as inputs in infrastructure development projects worldwide.\n",
            "\u201cTriLinc\u2019s recent investments demonstrate our support of enterprises, such as the Uruguayan citrus producer, that seek to improve their position as competitive players in the international marketplace,\u201d said Gloria Nelund, CEO of TriLinc. \u201cFurthermore, the investments reflect TriLinc\u2019s commitment to current and new borrowers that aim to generate economic and social impact across agricultural, manufacturing, and service industries worldwide.\u201d.\"\n",
            "\n",
            "\n"
          ]
        }
      ]
    },
    {
      "cell_type": "markdown",
      "source": [
        "Use best match to answer (and compare to reference answer)"
      ],
      "metadata": {
        "id": "Ja4hgJSRfQrD"
      }
    },
    {
      "cell_type": "code",
      "source": [
        "context_idx = np.argsort(-cross_scores)[0]\n",
        "context = train_contexts[corpus_ids[0][context_idx]]\n",
        "\n",
        "input_text = f\"Given the following passage, answer the related question.\\n\\nPassage:\\n\\n{context}\\n\\nQ: {question}?\"\n",
        "input_ids = tokenizer(input_text, return_tensors=\"pt\").input_ids.to(device)\n",
        "print(input_text, \"\\n\")\n",
        "\n",
        "output_ids = model.generate(input_ids, max_new_tokens=32)\n",
        "output_text = tokenizer.decode(output_ids[0], skip_special_tokens=True)\n",
        "print(\"A (generated): \", output_text, \"\\n\")\n",
        "\n",
        "print(f\"A (target): {target_answer}\")"
      ],
      "metadata": {
        "colab": {
          "base_uri": "https://localhost:8080/"
        },
        "id": "rEW07ddSfR7w",
        "executionInfo": {
          "status": "ok",
          "timestamp": 1745510519053,
          "user_tz": -120,
          "elapsed": 1406,
          "user": {
            "displayName": "\u85e4\u672c\u7fd4\u5927",
            "userId": "17448755615328061370"
          }
        },
        "outputId": "c246dfb1-cd38-4d6a-8e94-71ecaa7e3e93"
      },
      "execution_count": null,
      "outputs": [
        {
          "output_type": "stream",
          "name": "stderr",
          "text": [
            "Token indices sequence length is longer than the specified maximum sequence length for this model (753 > 512). Running this sequence through the model will result in indexing errors\n"
          ]
        },
        {
          "output_type": "stream",
          "name": "stdout",
          "text": [
            "Given the following passage, answer the related question.\n",
            "\n",
            "Passage:\n",
            "\n",
            "Caption: Tasmanian berry grower Nic Hansen showing Macau chef Antimo Merone around his property as part of export engagement activities.\n",
            "THE RISE and rise of the Australian strawberry, raspberry and blackberry industries has seen the sectors redouble their international trade focus, with the release of a dedicated export plan to grow their global presence over the next 10 years.\n",
            "Driven by significant grower input, the Berry Export Summary 2028 maps the sectors\u2019 current position, where they want to be, high-opportunity markets and next steps.\n",
            "Hort Innovation trade manager Jenny Van de Meeberg said the value and volume of raspberry and blackberry exports rose by 100 per cent between 2016 and 2017. She said the Australian strawberry industry experienced similar success with an almost 30 per cent rise in export volume and a 26 per cent rise in value to $32.6M over the same period.\n",
            "\u201cAustralian berry sectors are in a firm position at the moment,\u201d she said. \u201cProduction, adoption of protected substrate cropping, improved genetics and an expanding geographic footprint have all helped put Aussie berries on a positive trajectory.\n",
            "\u201cWe are seeing a real transition point. Broad industry interest and a strong commercial appetite for export market development combined with the potential to capitalise on existing trade agreements and build new trade partnerships has created this perfect environment for growth.\u201d\n",
            "High-income countries across Europe, North America and Northern Asia have been identified as having a palate for Australian grown berries with more than 4244 tonnes of fresh berries exported in the last financial year alone.\n",
            "The strategy identified the best short-term prospect markets for the Australian blackberry and raspberry industry as Hong Kong, Singapore, The United Arab Emirates and Canada. The strongest short-term trade options identified for the strawberry sector were Thailand, Malaysia, New Zealand and Macau.\n",
            "The strategy focuses heavily on growing the existing strawberry export market from 4 per cent to at least 8 per cent of national production by volume, in markets with a capacity and willingness to pay a premium for quality fruit. For raspberries and blackberries, the sectors aim to achieve a 5 per cent boost in exports assessed by volume across identified markets by 2021.\n",
            "Tasmanian raspberry exporter Nic Hansen said Australia offers some of the sweetest and most attractive berries in the world, and this combined with our stringent food safety standards across all stages of the supply chain puts growers in a solid position.\n",
            "\u201cWe have a great product, we are hungry to expand trade and now with this new plan in place, we have a clear roadmap towards driving growth,\u201d Mr Hansen said.\n",
            "He said it is exciting to see new export market prospects for raspberries: \u201cThe more options we have for export the better. Now we just have to get on with the job of ensuring industry has all the tools it needs, such as supporting data and relationship building opportunities, to thrive in new markets.\u201d\n",
            "This project was commissioned by Hort Innovation, and developed by market analysts and research consultants Auspex Strategic Advisory and AgInfinity. Hort Innovation will work now with berry sectors to determine levy-funded activities to support trade.\n",
            "See a summary of the strategy on the Hort Innovation website.\n",
            "For more information on the berry industries, refer to the Horticulture Statistics Handbook and the Strategic Investment Plans for strawberries, raspberries and blackberries. Growers seeking more information should email trade@horticulture.com.au\n",
            "\n",
            "Q: What is the Berry Export Summary 2028 and what is its purpose?? \n",
            "\n",
            "A (generated):  maps the sectors\u2019 current position, where they want to be, high-opportunity markets and next steps \n",
            "\n",
            "A (target): The Berry Export Summary 2028 is a dedicated export plan for the Australian strawberry, raspberry, and blackberry industries. It maps the sectors\u2019 current position, where they want to be, high-opportunity markets, and next steps. The purpose of this plan is to grow their global presence over the next 10 years.\n"
          ]
        }
      ]
    },
    {
      "cell_type": "markdown",
      "source": [
        "Using Gemma3"
      ],
      "metadata": {
        "id": "dA5TWOBpjCcf"
      }
    },
    {
      "cell_type": "code",
      "source": [
        "!pip install git+https://github.com/huggingface/transformers@v4.49.0-Gemma-3"
      ],
      "metadata": {
        "colab": {
          "base_uri": "https://localhost:8080/"
        },
        "id": "OWQ0HCvYjGIi",
        "executionInfo": {
          "status": "ok",
          "timestamp": 1745511579400,
          "user_tz": -120,
          "elapsed": 24900,
          "user": {
            "displayName": "\u85e4\u672c\u7fd4\u5927",
            "userId": "17448755615328061370"
          }
        },
        "outputId": "7d16d6a7-96c3-446e-fa49-010bd3af00be"
      },
      "execution_count": null,
      "outputs": [
        {
          "output_type": "stream",
          "name": "stdout",
          "text": [
            "Collecting git+https://github.com/huggingface/transformers@v4.49.0-Gemma-3\n",
            "  Cloning https://github.com/huggingface/transformers (to revision v4.49.0-Gemma-3) to /tmp/pip-req-build-rrtztjya\n",
            "  Running command git clone --filter=blob:none --quiet https://github.com/huggingface/transformers /tmp/pip-req-build-rrtztjya\n",
            "  Running command git checkout -q 367bab469b0ef32017e2a0a0a5dbac5d36002f03\n",
            "  Resolved https://github.com/huggingface/transformers to commit 367bab469b0ef32017e2a0a0a5dbac5d36002f03\n",
            "  Installing build dependencies ... \u001b[?25l\u001b[?25hdone\n",
            "  Getting requirements to build wheel ... \u001b[?25l\u001b[?25hdone\n",
            "  Preparing metadata (pyproject.toml) ... \u001b[?25l\u001b[?25hdone\n",
            "Requirement already satisfied: filelock in /usr/local/lib/python3.11/dist-packages (from transformers==4.50.0.dev0) (3.18.0)\n",
            "Requirement already satisfied: huggingface-hub<1.0,>=0.26.0 in /usr/local/lib/python3.11/dist-packages (from transformers==4.50.0.dev0) (0.30.2)\n",
            "Requirement already satisfied: numpy>=1.17 in /usr/local/lib/python3.11/dist-packages (from transformers==4.50.0.dev0) (2.0.2)\n",
            "Requirement already satisfied: packaging>=20.0 in /usr/local/lib/python3.11/dist-packages (from transformers==4.50.0.dev0) (24.2)\n",
            "Requirement already satisfied: pyyaml>=5.1 in /usr/local/lib/python3.11/dist-packages (from transformers==4.50.0.dev0) (6.0.2)\n",
            "Requirement already satisfied: regex!=2019.12.17 in /usr/local/lib/python3.11/dist-packages (from transformers==4.50.0.dev0) (2024.11.6)\n",
            "Requirement already satisfied: requests in /usr/local/lib/python3.11/dist-packages (from transformers==4.50.0.dev0) (2.32.3)\n",
            "Requirement already satisfied: tokenizers<0.22,>=0.21 in /usr/local/lib/python3.11/dist-packages (from transformers==4.50.0.dev0) (0.21.1)\n",
            "Requirement already satisfied: safetensors>=0.4.1 in /usr/local/lib/python3.11/dist-packages (from transformers==4.50.0.dev0) (0.5.3)\n",
            "Requirement already satisfied: tqdm>=4.27 in /usr/local/lib/python3.11/dist-packages (from transformers==4.50.0.dev0) (4.67.1)\n",
            "Requirement already satisfied: fsspec>=2023.5.0 in /usr/local/lib/python3.11/dist-packages (from huggingface-hub<1.0,>=0.26.0->transformers==4.50.0.dev0) (2024.12.0)\n",
            "Requirement already satisfied: typing-extensions>=3.7.4.3 in /usr/local/lib/python3.11/dist-packages (from huggingface-hub<1.0,>=0.26.0->transformers==4.50.0.dev0) (4.13.2)\n",
            "Requirement already satisfied: charset-normalizer<4,>=2 in /usr/local/lib/python3.11/dist-packages (from requests->transformers==4.50.0.dev0) (3.4.1)\n",
            "Requirement already satisfied: idna<4,>=2.5 in /usr/local/lib/python3.11/dist-packages (from requests->transformers==4.50.0.dev0) (3.10)\n",
            "Requirement already satisfied: urllib3<3,>=1.21.1 in /usr/local/lib/python3.11/dist-packages (from requests->transformers==4.50.0.dev0) (2.3.0)\n",
            "Requirement already satisfied: certifi>=2017.4.17 in /usr/local/lib/python3.11/dist-packages (from requests->transformers==4.50.0.dev0) (2025.1.31)\n"
          ]
        }
      ]
    },
    {
      "cell_type": "code",
      "source": [
        "from transformers import AutoProcessor, Gemma3ForConditionalGeneration\n",
        "from PIL import Image\n",
        "import requests\n",
        "import torch\n",
        "\n",
        "model_id = \"google/gemma-3-4b-it\"\n",
        "\n",
        "model = Gemma3ForConditionalGeneration.from_pretrained(\n",
        "    model_id, device_map=\"auto\"\n",
        ").eval()\n",
        "\n",
        "processor = AutoProcessor.from_pretrained(model_id)"
      ],
      "metadata": {
        "colab": {
          "base_uri": "https://localhost:8080/",
          "height": 553,
          "referenced_widgets": [
                      ]
        },
        "id": "ppsJMD61jKDb",
        "executionInfo": {
          "status": "ok",
          "timestamp": 1745511684682,
          "user_tz": -120,
          "elapsed": 101121,
          "user": {
            "displayName": "\u85e4\u672c\u7fd4\u5927",
            "userId": "17448755615328061370"
          }
        },
        "outputId": "fb7164a4-60b8-4d34-8662-f8b593635daf"
      },
      "execution_count": null,
      "outputs": [
        {
          "output_type": "display_data",
          "data": {
            "text/plain": [
              "config.json:   0%|          | 0.00/855 [00:00<?, ?B/s]"
            ],
            "application/vnd.jupyter.widget-view+json": {
              "version_major": 2,
              "version_minor": 0,
              "model_id": "a2c9dfa9487744ebaccafae6736da391"
            }
          },
          "metadata": {}
        },
        {
          "output_type": "display_data",
          "data": {
            "text/plain": [
              "model.safetensors.index.json:   0%|          | 0.00/90.6k [00:00<?, ?B/s]"
            ],
            "application/vnd.jupyter.widget-view+json": {
              "version_major": 2,
              "version_minor": 0,
              "model_id": "4fd87946eb03483e856f76b2c0741654"
            }
          },
          "metadata": {}
        },
        {
          "output_type": "display_data",
          "data": {
            "text/plain": [
              "Downloading shards:   0%|          | 0/2 [00:00<?, ?it/s]"
            ],
            "application/vnd.jupyter.widget-view+json": {
              "version_major": 2,
              "version_minor": 0,
              "model_id": "0a2a8315ed134b84883841a9ba758a64"
            }
          },
          "metadata": {}
        },
        {
          "output_type": "display_data",
          "data": {
            "text/plain": [
              "model-00001-of-00002.safetensors:   0%|          | 0.00/4.96G [00:00<?, ?B/s]"
            ],
            "application/vnd.jupyter.widget-view+json": {
              "version_major": 2,
              "version_minor": 0,
              "model_id": "f0e74502ca9a4766b34356c24316d8d9"
            }
          },
          "metadata": {}
        },
        {
          "output_type": "display_data",
          "data": {
            "text/plain": [
              "model-00002-of-00002.safetensors:   0%|          | 0.00/3.64G [00:00<?, ?B/s]"
            ],
            "application/vnd.jupyter.widget-view+json": {
              "version_major": 2,
              "version_minor": 0,
              "model_id": "69957e1541b846e4a6291ad05b2657ee"
            }
          },
          "metadata": {}
        },
        {
          "output_type": "display_data",
          "data": {
            "text/plain": [
              "Loading checkpoint shards:   0%|          | 0/2 [00:00<?, ?it/s]"
            ],
            "application/vnd.jupyter.widget-view+json": {
              "version_major": 2,
              "version_minor": 0,
              "model_id": "ae2f9533ee214ad582f9a65696b76942"
            }
          },
          "metadata": {}
        },
        {
          "output_type": "display_data",
          "data": {
            "text/plain": [
              "generation_config.json:   0%|          | 0.00/215 [00:00<?, ?B/s]"
            ],
            "application/vnd.jupyter.widget-view+json": {
              "version_major": 2,
              "version_minor": 0,
              "model_id": "457376246f9e42d4b2b536e2f439dd9d"
            }
          },
          "metadata": {}
        },
        {
          "output_type": "stream",
          "name": "stderr",
          "text": [
            "WARNING:accelerate.big_modeling:Some parameters are on the meta device because they were offloaded to the cpu.\n"
          ]
        },
        {
          "output_type": "display_data",
          "data": {
            "text/plain": [
              "processor_config.json:   0%|          | 0.00/70.0 [00:00<?, ?B/s]"
            ],
            "application/vnd.jupyter.widget-view+json": {
              "version_major": 2,
              "version_minor": 0,
              "model_id": "49f2ef1b5e564730b2296db5ac222e9e"
            }
          },
          "metadata": {}
        },
        {
          "output_type": "display_data",
          "data": {
            "text/plain": [
              "chat_template.json:   0%|          | 0.00/1.61k [00:00<?, ?B/s]"
            ],
            "application/vnd.jupyter.widget-view+json": {
              "version_major": 2,
              "version_minor": 0,
              "model_id": "2d4cfe17ec2e4380bb9e8798b6c80ccc"
            }
          },
          "metadata": {}
        },
        {
          "output_type": "display_data",
          "data": {
            "text/plain": [
              "preprocessor_config.json:   0%|          | 0.00/570 [00:00<?, ?B/s]"
            ],
            "application/vnd.jupyter.widget-view+json": {
              "version_major": 2,
              "version_minor": 0,
              "model_id": "55b825e96d5946c49826073d392775aa"
            }
          },
          "metadata": {}
        },
        {
          "output_type": "stream",
          "name": "stderr",
          "text": [
            "Using a slow image processor as `use_fast` is unset and a slow processor was saved with this model. `use_fast=True` will be the default behavior in v4.48, even if the model was saved with a slow processor. This will result in minor differences in outputs. You'll still be able to use a slow processor with `use_fast=False`.\n"
          ]
        },
        {
          "output_type": "display_data",
          "data": {
            "text/plain": [
              "tokenizer_config.json:   0%|          | 0.00/1.16M [00:00<?, ?B/s]"
            ],
            "application/vnd.jupyter.widget-view+json": {
              "version_major": 2,
              "version_minor": 0,
              "model_id": "5439f017ef004062959ec2c805dc65ac"
            }
          },
          "metadata": {}
        },
        {
          "output_type": "display_data",
          "data": {
            "text/plain": [
              "tokenizer.model:   0%|          | 0.00/4.69M [00:00<?, ?B/s]"
            ],
            "application/vnd.jupyter.widget-view+json": {
              "version_major": 2,
              "version_minor": 0,
              "model_id": "7b3ae72520274bc2b5e84564add1a9c5"
            }
          },
          "metadata": {}
        },
        {
          "output_type": "display_data",
          "data": {
            "text/plain": [
              "tokenizer.json:   0%|          | 0.00/33.4M [00:00<?, ?B/s]"
            ],
            "application/vnd.jupyter.widget-view+json": {
              "version_major": 2,
              "version_minor": 0,
              "model_id": "0b490633a06c4d6ea23d8a8398bac3e8"
            }
          },
          "metadata": {}
        },
        {
          "output_type": "display_data",
          "data": {
            "text/plain": [
              "added_tokens.json:   0%|          | 0.00/35.0 [00:00<?, ?B/s]"
            ],
            "application/vnd.jupyter.widget-view+json": {
              "version_major": 2,
              "version_minor": 0,
              "model_id": "56b5e4faebf54c548f97fec79991f380"
            }
          },
          "metadata": {}
        },
        {
          "output_type": "display_data",
          "data": {
            "text/plain": [
              "special_tokens_map.json:   0%|          | 0.00/662 [00:00<?, ?B/s]"
            ],
            "application/vnd.jupyter.widget-view+json": {
              "version_major": 2,
              "version_minor": 0,
              "model_id": "816a3f5517c84f359074cc9fbcc5814c"
            }
          },
          "metadata": {}
        }
      ]
    },
    {
      "cell_type": "code",
      "source": [
        "context_idx = np.argsort(-cross_scores)[0]\n",
        "context = train_contexts[corpus_ids[0][context_idx]]\n",
        "\n",
        "prompt = f\"Given the following passage, answer the related question.\\n\\nPassage:\\n\\n{context}\\n\\nQ: {question}?\"\n",
        "print(prompt, \"\\n\")\n",
        "\n",
        "messages = [\n",
        "    {\n",
        "        \"role\": \"system\",\n",
        "        \"content\": [{\"type\": \"text\", \"text\": \"You are a helpful assistant.\"}]\n",
        "    },\n",
        "    {\n",
        "        \"role\": \"user\",\n",
        "        \"content\": [ {\"type\": \"text\", \"text\": prompt}]\n",
        "    }]\n",
        "\n",
        "inputs = processor.apply_chat_template(\n",
        "        messages, add_generation_prompt=True, tokenize=True,return_dict=True, return_tensors=\"pt\"\n",
        "        ).to(model.device, dtype=torch.bfloat16)\n",
        "\n",
        "input_len = inputs[\"input_ids\"].shape[-1]\n",
        "\n",
        "with torch.inference_mode():\n",
        "      generation = model.generate(**inputs, max_new_tokens=400, do_sample=False)\n",
        "      generation = generation[0][input_len:]\n",
        "\n",
        "output_text = processor.decode(generation, skip_special_tokens=True)\n",
        "print(\"A (generated): \", output_text, \"\\n\")\n",
        "\n",
        "print(f\"A (target): {target_answer}\")"
      ],
      "metadata": {
        "colab": {
          "base_uri": "https://localhost:8080/"
        },
        "id": "o0s2ZdaajcpA",
        "executionInfo": {
          "status": "ok",
          "timestamp": 1745511779657,
          "user_tz": -120,
          "elapsed": 54956,
          "user": {
            "displayName": "\u85e4\u672c\u7fd4\u5927",
            "userId": "17448755615328061370"
          }
        },
        "outputId": "8ac3e08a-97ab-41d6-e74a-1c2009a5c6c7"
      },
      "execution_count": null,
      "outputs": [
        {
          "output_type": "stream",
          "name": "stdout",
          "text": [
            "Given the following passage, answer the related question.\n",
            "\n",
            "Passage:\n",
            "\n",
            "Caption: Tasmanian berry grower Nic Hansen showing Macau chef Antimo Merone around his property as part of export engagement activities.\n",
            "THE RISE and rise of the Australian strawberry, raspberry and blackberry industries has seen the sectors redouble their international trade focus, with the release of a dedicated export plan to grow their global presence over the next 10 years.\n",
            "Driven by significant grower input, the Berry Export Summary 2028 maps the sectors\u2019 current position, where they want to be, high-opportunity markets and next steps.\n",
            "Hort Innovation trade manager Jenny Van de Meeberg said the value and volume of raspberry and blackberry exports rose by 100 per cent between 2016 and 2017. She said the Australian strawberry industry experienced similar success with an almost 30 per cent rise in export volume and a 26 per cent rise in value to $32.6M over the same period.\n",
            "\u201cAustralian berry sectors are in a firm position at the moment,\u201d she said. \u201cProduction, adoption of protected substrate cropping, improved genetics and an expanding geographic footprint have all helped put Aussie berries on a positive trajectory.\n",
            "\u201cWe are seeing a real transition point. Broad industry interest and a strong commercial appetite for export market development combined with the potential to capitalise on existing trade agreements and build new trade partnerships has created this perfect environment for growth.\u201d\n",
            "High-income countries across Europe, North America and Northern Asia have been identified as having a palate for Australian grown berries with more than 4244 tonnes of fresh berries exported in the last financial year alone.\n",
            "The strategy identified the best short-term prospect markets for the Australian blackberry and raspberry industry as Hong Kong, Singapore, The United Arab Emirates and Canada. The strongest short-term trade options identified for the strawberry sector were Thailand, Malaysia, New Zealand and Macau.\n",
            "The strategy focuses heavily on growing the existing strawberry export market from 4 per cent to at least 8 per cent of national production by volume, in markets with a capacity and willingness to pay a premium for quality fruit. For raspberries and blackberries, the sectors aim to achieve a 5 per cent boost in exports assessed by volume across identified markets by 2021.\n",
            "Tasmanian raspberry exporter Nic Hansen said Australia offers some of the sweetest and most attractive berries in the world, and this combined with our stringent food safety standards across all stages of the supply chain puts growers in a solid position.\n",
            "\u201cWe have a great product, we are hungry to expand trade and now with this new plan in place, we have a clear roadmap towards driving growth,\u201d Mr Hansen said.\n",
            "He said it is exciting to see new export market prospects for raspberries: \u201cThe more options we have for export the better. Now we just have to get on with the job of ensuring industry has all the tools it needs, such as supporting data and relationship building opportunities, to thrive in new markets.\u201d\n",
            "This project was commissioned by Hort Innovation, and developed by market analysts and research consultants Auspex Strategic Advisory and AgInfinity. Hort Innovation will work now with berry sectors to determine levy-funded activities to support trade.\n",
            "See a summary of the strategy on the Hort Innovation website.\n",
            "For more information on the berry industries, refer to the Horticulture Statistics Handbook and the Strategic Investment Plans for strawberries, raspberries and blackberries. Growers seeking more information should email trade@horticulture.com.au\n",
            "\n",
            "Q: What is the Berry Export Summary 2028 and what is its purpose?? \n",
            "\n"
          ]
        },
        {
          "output_type": "stream",
          "name": "stderr",
          "text": [
            "/usr/local/lib/python3.11/dist-packages/transformers/generation/configuration_utils.py:634: UserWarning: `do_sample` is set to `False`. However, `top_p` is set to `0.95` -- this flag is only used in sample-based generation modes. You should set `do_sample=True` or unset `top_p`.\n",
            "  warnings.warn(\n",
            "/usr/local/lib/python3.11/dist-packages/transformers/generation/configuration_utils.py:651: UserWarning: `do_sample` is set to `False`. However, `top_k` is set to `64` -- this flag is only used in sample-based generation modes. You should set `do_sample=True` or unset `top_k`.\n",
            "  warnings.warn(\n"
          ]
        },
        {
          "output_type": "stream",
          "name": "stdout",
          "text": [
            "A (generated):  The Berry Export Summary 2028 is a document that maps the current position, desired future state, high-opportunity markets, and next steps for the Australian strawberry, raspberry, and blackberry industries. Its purpose is to grow the sectors\u2019 global presence over the next 10 years by outlining a strategy for increased international trade. \n",
            "\n",
            "A (target): The Berry Export Summary 2028 is a dedicated export plan for the Australian strawberry, raspberry, and blackberry industries. It maps the sectors\u2019 current position, where they want to be, high-opportunity markets, and next steps. The purpose of this plan is to grow their global presence over the next 10 years.\n"
          ]
        }
      ]
    }
  ]
}
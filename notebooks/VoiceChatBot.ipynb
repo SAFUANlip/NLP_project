{
 "cells": [
  {
   "cell_type": "markdown",
   "id": "72a09198-9b2c-4cfa-af41-7a4297694aad",
   "metadata": {},
   "source": [
    "# Voice Chat Bot"
   ]
  },
  {
   "cell_type": "code",
   "execution_count": null,
   "id": "b75af2bc-8bcb-4846-b92a-348a20ac4ec4",
   "metadata": {},
   "outputs": [],
   "source": []
  }
 ],
 "metadata": {
  "kernelspec": {
   "display_name": "my env ai",
   "language": "python",
   "name": "myenv_ai"
  },
  "language_info": {
   "codemirror_mode": {
    "name": "ipython",
    "version": 3
   },
   "file_extension": ".py",
   "mimetype": "text/x-python",
   "name": "python",
   "nbconvert_exporter": "python",
   "pygments_lexer": "ipython3",
   "version": "3.12.5"
  }
 },
 "nbformat": 4,
 "nbformat_minor": 5
}
